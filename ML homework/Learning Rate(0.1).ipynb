{
  "nbformat": 4,
  "nbformat_minor": 0,
  "metadata": {
    "colab": {
      "name": "Untitled4.ipynb",
      "provenance": [],
      "authorship_tag": "ABX9TyNuklp5YRruSJsELKhp7F6Y",
      "include_colab_link": true
    },
    "kernelspec": {
      "name": "python3",
      "display_name": "Python 3"
    },
    "language_info": {
      "name": "python"
    }
  },
  "cells": [
    {
      "cell_type": "markdown",
      "metadata": {
        "id": "view-in-github",
        "colab_type": "text"
      },
      "source": [
        "<a href=\"https://colab.research.google.com/github/heasun0111/Machine-learning/blob/master/Learning%20Rate(0.1).ipynb\" target=\"_parent\"><img src=\"https://colab.research.google.com/assets/colab-badge.svg\" alt=\"Open In Colab\"/></a>"
      ]
    },
    {
      "cell_type": "code",
      "metadata": {
        "colab": {
          "base_uri": "https://localhost:8080/",
          "height": 584
        },
        "id": "LhsxVgN70-k0",
        "outputId": "fe2a8c7d-0f0f-4bff-dfe2-936e8b80bc6b"
      },
      "source": [
        "import numpy as np\n",
        "import torch\n",
        "import torch.nn as nn\n",
        "import torch.nn.functional as F\n",
        "import torchvision.datasets as datasets\n",
        "import torch.utils.data as data\n",
        "import torchvision.transforms as transforms\n",
        "from torch.utils.data import DataLoader\n",
        "import matplotlib.pyplot as plt\n",
        "import torch.optim as optim\n",
        "\n",
        "\n",
        "batch_size = 100\n",
        "lr = 0.1\n",
        "training_epoch = 15\n",
        "\n",
        "download_root = './MNIST_DOWNLOAD'\n",
        "dataset = datasets.MNIST(\n",
        "    download_root, transform=transforms.ToTensor(), train=True, download=True)\n",
        "\n",
        "train_data = datasets.MNIST(root='MNIST_data/',\n",
        "                          train=True,\n",
        "                          transform=transforms.ToTensor(),\n",
        "                          download=True)\n",
        "train_loader = torch.utils.data.DataLoader(dataset=train_data, batch_size=batch_size, shuffle=True)\n",
        "\n",
        "test_data = datasets.MNIST(root='MNIST_data/',\n",
        "                         train=False,\n",
        "                         transform=transforms.ToTensor(),\n",
        "                         download=True)\n",
        "test_loader = torch.utils.data.DataLoader(dataset=test_data, batch_size=batch_size, shuffle=True)\n",
        "\n",
        "dataloader = DataLoader(dataset = train_data , batch_size=batch_size, shuffle=True, drop_last = True)\n",
        "\n",
        "class Net(nn.Module):\n",
        "    def __init__(self):\n",
        "        super(Net, self).__init__()\n",
        "        self.fc1 = nn.Linear(784, 100)\n",
        "        self.relu = nn.ReLU()\n",
        "        self.fc2 = nn.Linear(100,100)\n",
        "        self.fc3 = nn.Linear(100,10)\n",
        "    def forward(self, x):\n",
        "        x1 = self.fc1(x)\n",
        "        x2 = self.relu(x1)\n",
        "        x3 = self.fc2(x2)\n",
        "        x4 = self.relu(x3)\n",
        "        x5 = self.fc3(x4)\n",
        "        return x5\n",
        "\n",
        "model = Net()\n",
        "entropy = nn.CrossEntropyLoss()\n",
        "optimizer = torch.optim.SGD(model.parameters(), lr=lr)\n",
        "\n",
        "x_test = test_data.test_data.view(-1, 784).float().to()\n",
        "y_test = test_data.test_labels.to()\n",
        "\n",
        "epochs=[]\n",
        "losses=[]\n",
        "accuracy=[]\n",
        "\n",
        "for epoch in range(training_epoch):\n",
        "    avg_loss = 0\n",
        "    total_batch = len(dataloader)\n",
        "    epochs.append(epoch)\n",
        "    for x, y in dataloader:\n",
        "        x_batch = x.view(-1, 784)\n",
        "        y_batch = y.to()\n",
        "        optimizer.zero_grad()\n",
        "        hypothesis = model(x_batch)\n",
        "        loss = entropy(hypothesis, y_batch)\n",
        "        loss.backward()\n",
        "        optimizer.step()\n",
        "        avg_loss += loss / total_batch\n",
        "    correct_prediction = torch.argmax(model(x_test), 1) == y_test\n",
        "    acc = correct_prediction.float().mean()\n",
        "    losses.append(avg_loss.item())\n",
        "    accuracy.append(acc.item())\n",
        "\n",
        "plt.figure(1)\n",
        "plt.plot(epochs, losses)\n",
        "plt.figure(2)\n",
        "plt.plot(epochs, accuracy)\n",
        "plt.show()"
      ],
      "execution_count": 4,
      "outputs": [
        {
          "output_type": "stream",
          "text": [
            "/usr/local/lib/python3.7/dist-packages/torchvision/datasets/mnist.py:69: UserWarning: test_data has been renamed data\n",
            "  warnings.warn(\"test_data has been renamed data\")\n",
            "/usr/local/lib/python3.7/dist-packages/torchvision/datasets/mnist.py:59: UserWarning: test_labels has been renamed targets\n",
            "  warnings.warn(\"test_labels has been renamed targets\")\n"
          ],
          "name": "stderr"
        },
        {
          "output_type": "display_data",
          "data": {
            "image/png": "[encoded data removed]",
            "text/plain": [
              "<Figure size 432x288 with 1 Axes>"
            ]
          },
          "metadata": {
            "tags": [],
            "needs_background": "light"
          }
        },
        {
          "output_type": "display_data",
          "data": {
            "image/png": "[encoded data removed]",
            "text/plain": [
              "<Figure size 432x288 with 1 Axes>"
            ]
          },
          "metadata": {
            "tags": [],
            "needs_background": "light"
          }
        }
      ]
    }
  ]
}
